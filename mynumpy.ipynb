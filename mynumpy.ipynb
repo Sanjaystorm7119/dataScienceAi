{
 "cells": [
  {
   "cell_type": "code",
   "execution_count": 3,
   "id": "08a7a652",
   "metadata": {},
   "outputs": [],
   "source": [
    "import numpy as np\n",
    "import pandas as pd"
   ]
  },
  {
   "cell_type": "markdown",
   "id": "329833f6",
   "metadata": {},
   "source": [
    "## DataTypes and Attributes"
   ]
  },
  {
   "cell_type": "code",
   "execution_count": 2,
   "id": "804ab9b1",
   "metadata": {},
   "outputs": [
    {
     "data": {
      "text/plain": [
       "array([1, 2, 3])"
      ]
     },
     "execution_count": 2,
     "metadata": {},
     "output_type": "execute_result"
    }
   ],
   "source": [
    "a1 = np.array([1,2,3])\n",
    "a1"
   ]
  },
  {
   "cell_type": "code",
   "execution_count": null,
   "id": "5ab71af1",
   "metadata": {},
   "outputs": [
    {
     "data": {
      "text/plain": [
       "array([[1, 2, 3],\n",
       "       [4, 5, 6]])"
      ]
     },
     "execution_count": 6,
     "metadata": {},
     "output_type": "execute_result"
    }
   ],
   "source": [
    "a2= np.array([[1,2,3],[4,5,6]])\n",
    "a2"
   ]
  },
  {
   "cell_type": "code",
   "execution_count": 7,
   "id": "805212ef",
   "metadata": {},
   "outputs": [
    {
     "data": {
      "text/plain": [
       "(3,)"
      ]
     },
     "execution_count": 7,
     "metadata": {},
     "output_type": "execute_result"
    }
   ],
   "source": [
    "a1.shape"
   ]
  },
  {
   "cell_type": "code",
   "execution_count": 8,
   "id": "0fe03420",
   "metadata": {},
   "outputs": [
    {
     "data": {
      "text/plain": [
       "(2, 3)"
      ]
     },
     "execution_count": 8,
     "metadata": {},
     "output_type": "execute_result"
    }
   ],
   "source": [
    "a2.shape"
   ]
  },
  {
   "cell_type": "code",
   "execution_count": 11,
   "id": "e83e71db",
   "metadata": {},
   "outputs": [
    {
     "data": {
      "text/plain": [
       "(1, 2)"
      ]
     },
     "execution_count": 11,
     "metadata": {},
     "output_type": "execute_result"
    }
   ],
   "source": [
    "a1.ndim ,a2.ndim"
   ]
  },
  {
   "cell_type": "code",
   "execution_count": 12,
   "id": "eef7b7c8",
   "metadata": {},
   "outputs": [
    {
     "data": {
      "text/plain": [
       "(dtype('int64'), dtype('int64'))"
      ]
     },
     "execution_count": 12,
     "metadata": {},
     "output_type": "execute_result"
    }
   ],
   "source": [
    "a1.dtype,a2.dtype"
   ]
  },
  {
   "cell_type": "code",
   "execution_count": 13,
   "id": "31c257a0",
   "metadata": {},
   "outputs": [
    {
     "data": {
      "text/plain": [
       "(3, 6)"
      ]
     },
     "execution_count": 13,
     "metadata": {},
     "output_type": "execute_result"
    }
   ],
   "source": [
    "a1.size, a2.size"
   ]
  },
  {
   "cell_type": "markdown",
   "id": "34d43e66",
   "metadata": {},
   "source": [
    "## creating df from numpy arrays"
   ]
  },
  {
   "cell_type": "code",
   "execution_count": 17,
   "id": "0163a56b",
   "metadata": {},
   "outputs": [
    {
     "data": {
      "text/html": [
       "<div>\n",
       "<style scoped>\n",
       "    .dataframe tbody tr th:only-of-type {\n",
       "        vertical-align: middle;\n",
       "    }\n",
       "\n",
       "    .dataframe tbody tr th {\n",
       "        vertical-align: top;\n",
       "    }\n",
       "\n",
       "    .dataframe thead th {\n",
       "        text-align: right;\n",
       "    }\n",
       "</style>\n",
       "<table border=\"1\" class=\"dataframe\">\n",
       "  <thead>\n",
       "    <tr style=\"text-align: right;\">\n",
       "      <th></th>\n",
       "      <th>0</th>\n",
       "      <th>1</th>\n",
       "      <th>2</th>\n",
       "    </tr>\n",
       "  </thead>\n",
       "  <tbody>\n",
       "    <tr>\n",
       "      <th>0</th>\n",
       "      <td>1</td>\n",
       "      <td>2</td>\n",
       "      <td>3</td>\n",
       "    </tr>\n",
       "    <tr>\n",
       "      <th>1</th>\n",
       "      <td>4</td>\n",
       "      <td>5</td>\n",
       "      <td>6</td>\n",
       "    </tr>\n",
       "  </tbody>\n",
       "</table>\n",
       "</div>"
      ],
      "text/plain": [
       "   0  1  2\n",
       "0  1  2  3\n",
       "1  4  5  6"
      ]
     },
     "execution_count": 17,
     "metadata": {},
     "output_type": "execute_result"
    }
   ],
   "source": [
    "a2\n",
    "df = pd.DataFrame(a2)\n",
    "df"
   ]
  },
  {
   "cell_type": "code",
   "execution_count": 18,
   "id": "81d5eeef",
   "metadata": {},
   "outputs": [
    {
     "data": {
      "text/plain": [
       "array([[1., 1., 1.],\n",
       "       [1., 1., 1.]])"
      ]
     },
     "execution_count": 18,
     "metadata": {},
     "output_type": "execute_result"
    }
   ],
   "source": [
    "ones = np.ones((2,3))\n",
    "ones"
   ]
  },
  {
   "cell_type": "code",
   "execution_count": 20,
   "id": "6cbc5d0c",
   "metadata": {},
   "outputs": [
    {
     "data": {
      "text/plain": [
       "array([0, 2, 4, 6, 8])"
      ]
     },
     "execution_count": 20,
     "metadata": {},
     "output_type": "execute_result"
    }
   ],
   "source": [
    "#range array\n",
    "range_array = np.arange(0,10,2)\n",
    "range_array"
   ]
  },
  {
   "cell_type": "code",
   "execution_count": 25,
   "id": "77d91c03",
   "metadata": {},
   "outputs": [
    {
     "data": {
      "text/plain": [
       "array([[14, 10,  5,  4,  5,  2],\n",
       "       [ 6, 13,  4,  9,  7, 10]], dtype=int32)"
      ]
     },
     "execution_count": 25,
     "metadata": {},
     "output_type": "execute_result"
    }
   ],
   "source": [
    "#random array\n",
    "random_array = np.random.randint(0,15,size=(2,6))\n",
    "random_array"
   ]
  },
  {
   "cell_type": "code",
   "execution_count": 26,
   "id": "bdfc4dfd",
   "metadata": {},
   "outputs": [
    {
     "data": {
      "text/plain": [
       "array([[0.95595694, 0.43443051, 0.51307693, 0.96766046],\n",
       "       [0.03777495, 0.72737806, 0.84954391, 0.78154998]])"
      ]
     },
     "execution_count": 26,
     "metadata": {},
     "output_type": "execute_result"
    }
   ],
   "source": [
    "#random array\n",
    "random_array2 = np.random.random(size=(2,4))\n",
    "random_array2"
   ]
  },
  {
   "cell_type": "code",
   "execution_count": 27,
   "id": "acd615d0",
   "metadata": {},
   "outputs": [
    {
     "data": {
      "text/plain": [
       "(2, 4)"
      ]
     },
     "execution_count": 27,
     "metadata": {},
     "output_type": "execute_result"
    }
   ],
   "source": [
    "random_array2.shape"
   ]
  },
  {
   "cell_type": "code",
   "execution_count": 33,
   "id": "b0eb8fb8",
   "metadata": {},
   "outputs": [],
   "source": [
    "#pseudo random numbers\n",
    "np.random.seed(0)"
   ]
  },
  {
   "cell_type": "code",
   "execution_count": 57,
   "id": "db284c93",
   "metadata": {},
   "outputs": [
    {
     "data": {
      "text/plain": [
       "array([[5, 8],\n",
       "       [9, 5]], dtype=int32)"
      ]
     },
     "execution_count": 57,
     "metadata": {},
     "output_type": "execute_result"
    }
   ],
   "source": [
    "np.random.seed(1)\n",
    "random_array3 = np.random.randint(10,size=(2,2))\n",
    "random_array3"
   ]
  },
  {
   "cell_type": "code",
   "execution_count": 59,
   "id": "cc16d03f",
   "metadata": {},
   "outputs": [
    {
     "data": {
      "text/plain": [
       "array([[6, 9],\n",
       "       [2, 4]], dtype=int32)"
      ]
     },
     "execution_count": 59,
     "metadata": {},
     "output_type": "execute_result"
    }
   ],
   "source": [
    "random_array3 = np.random.randint(10,size=(2,2))\n",
    "random_array3"
   ]
  },
  {
   "cell_type": "code",
   "execution_count": 32,
   "id": "06df56d2",
   "metadata": {},
   "outputs": [
    {
     "data": {
      "text/plain": [
       "(5, 3)"
      ]
     },
     "execution_count": 32,
     "metadata": {},
     "output_type": "execute_result"
    }
   ],
   "source": [
    "random_array3.shape"
   ]
  },
  {
   "cell_type": "markdown",
   "id": "a34e7e32",
   "metadata": {},
   "source": [
    "## viewing arrays and matrices"
   ]
  },
  {
   "cell_type": "code",
   "execution_count": 62,
   "id": "4ceb1e96",
   "metadata": {},
   "outputs": [
    {
     "data": {
      "text/plain": [
       "array([1, 2, 3, 4, 5])"
      ]
     },
     "execution_count": 62,
     "metadata": {},
     "output_type": "execute_result"
    }
   ],
   "source": [
    "#find unique \n",
    "\n",
    "df1 = np.array([[1,2,3],[3,4,5]])\n",
    "np.unique(df1)"
   ]
  },
  {
   "cell_type": "code",
   "execution_count": null,
   "id": "c009469f",
   "metadata": {},
   "outputs": [
    {
     "data": {
      "text/plain": [
       "np.int64(2)"
      ]
     },
     "execution_count": 65,
     "metadata": {},
     "output_type": "execute_result"
    }
   ],
   "source": [
    "df1[0]"
   ]
  },
  {
   "cell_type": "code",
   "execution_count": 74,
   "id": "d8523756",
   "metadata": {},
   "outputs": [
    {
     "data": {
      "text/plain": [
       "array([3, 4, 5])"
      ]
     },
     "execution_count": 74,
     "metadata": {},
     "output_type": "execute_result"
    }
   ],
   "source": [
    "df1[1:][0]"
   ]
  },
  {
   "cell_type": "code",
   "execution_count": 77,
   "id": "c9bfbc9a",
   "metadata": {},
   "outputs": [
    {
     "data": {
      "text/plain": [
       "array([[[[[2, 6, 1, 2, 2, 1],\n",
       "          [5, 5, 2, 3, 3, 3],\n",
       "          [0, 5, 3, 1, 0, 6],\n",
       "          [4, 3, 1, 5, 5, 9],\n",
       "          [0, 6, 7, 8, 2, 8]],\n",
       "\n",
       "         [[5, 0, 8, 2, 8, 9],\n",
       "          [4, 1, 2, 1, 6, 5],\n",
       "          [0, 6, 1, 0, 1, 3],\n",
       "          [5, 4, 7, 6, 4, 2],\n",
       "          [9, 3, 2, 8, 4, 2]],\n",
       "\n",
       "         [[5, 1, 2, 5, 3, 3],\n",
       "          [3, 2, 8, 1, 9, 6],\n",
       "          [4, 3, 4, 8, 3, 8],\n",
       "          [7, 1, 3, 4, 0, 2],\n",
       "          [3, 4, 2, 0, 5, 8]],\n",
       "\n",
       "         [[7, 8, 8, 4, 6, 3],\n",
       "          [4, 5, 1, 4, 5, 2],\n",
       "          [4, 0, 8, 3, 7, 0],\n",
       "          [3, 5, 5, 8, 2, 1],\n",
       "          [9, 3, 1, 2, 8, 9]]],\n",
       "\n",
       "\n",
       "        [[[9, 9, 0, 1, 0, 3],\n",
       "          [1, 0, 6, 3, 5, 5],\n",
       "          [1, 4, 9, 4, 0, 7],\n",
       "          [7, 5, 4, 3, 7, 5],\n",
       "          [0, 9, 7, 0, 8, 7]],\n",
       "\n",
       "         [[7, 4, 1, 5, 0, 2],\n",
       "          [3, 7, 7, 7, 0, 2],\n",
       "          [5, 6, 2, 3, 8, 5],\n",
       "          [1, 2, 6, 5, 5, 6],\n",
       "          [8, 2, 7, 2, 9, 6]],\n",
       "\n",
       "         [[4, 1, 7, 8, 9, 7],\n",
       "          [9, 4, 7, 7, 5, 6],\n",
       "          [6, 1, 3, 0, 7, 8],\n",
       "          [2, 0, 3, 4, 7, 6],\n",
       "          [1, 8, 8, 9, 0, 6]],\n",
       "\n",
       "         [[0, 7, 4, 6, 1, 2],\n",
       "          [6, 3, 2, 0, 5, 1],\n",
       "          [9, 6, 8, 9, 2, 6],\n",
       "          [9, 6, 1, 0, 6, 5],\n",
       "          [4, 5, 8, 4, 6, 0]]],\n",
       "\n",
       "\n",
       "        [[[5, 6, 7, 5, 9, 0],\n",
       "          [4, 0, 6, 9, 4, 4],\n",
       "          [0, 5, 5, 1, 0, 5],\n",
       "          [5, 5, 0, 6, 0, 1],\n",
       "          [3, 7, 6, 0, 6, 9]],\n",
       "\n",
       "         [[5, 1, 7, 4, 7, 6],\n",
       "          [2, 0, 5, 4, 8, 2],\n",
       "          [6, 8, 1, 8, 3, 9],\n",
       "          [7, 6, 5, 6, 9, 0],\n",
       "          [2, 1, 6, 4, 6, 3]],\n",
       "\n",
       "         [[6, 0, 2, 9, 2, 7],\n",
       "          [4, 1, 2, 6, 2, 9],\n",
       "          [0, 7, 5, 8, 4, 9],\n",
       "          [1, 2, 8, 7, 8, 2],\n",
       "          [6, 2, 9, 2, 2, 0]],\n",
       "\n",
       "         [[7, 1, 1, 1, 4, 1],\n",
       "          [0, 5, 0, 4, 1, 9],\n",
       "          [5, 3, 0, 7, 0, 8],\n",
       "          [0, 5, 0, 4, 4, 6],\n",
       "          [7, 9, 2, 2, 4, 9]]]],\n",
       "\n",
       "\n",
       "\n",
       "       [[[[2, 3, 0, 2, 6, 0],\n",
       "          [5, 1, 6, 2, 5, 0],\n",
       "          [9, 1, 1, 3, 9, 9],\n",
       "          [5, 9, 6, 7, 6, 7],\n",
       "          [6, 7, 7, 2, 9, 9]],\n",
       "\n",
       "         [[0, 4, 4, 9, 9, 4],\n",
       "          [1, 5, 9, 9, 6, 2],\n",
       "          [0, 2, 3, 9, 8, 8],\n",
       "          [4, 8, 2, 6, 4, 6],\n",
       "          [4, 5, 7, 0, 5, 5]],\n",
       "\n",
       "         [[3, 8, 2, 0, 5, 3],\n",
       "          [8, 8, 5, 8, 7, 4],\n",
       "          [9, 5, 5, 0, 7, 1],\n",
       "          [4, 4, 8, 2, 2, 6],\n",
       "          [7, 1, 5, 3, 8, 4]],\n",
       "\n",
       "         [[0, 4, 0, 5, 9, 7],\n",
       "          [9, 5, 9, 5, 9, 7],\n",
       "          [2, 4, 2, 9, 4, 0],\n",
       "          [5, 3, 9, 7, 4, 6],\n",
       "          [0, 0, 4, 1, 3, 4]]],\n",
       "\n",
       "\n",
       "        [[[1, 6, 3, 2, 4, 2],\n",
       "          [6, 7, 1, 0, 0, 8],\n",
       "          [5, 2, 9, 7, 5, 5],\n",
       "          [7, 2, 0, 8, 3, 2],\n",
       "          [7, 8, 3, 5, 0, 6]],\n",
       "\n",
       "         [[0, 8, 1, 9, 6, 3],\n",
       "          [4, 8, 7, 5, 9, 5],\n",
       "          [2, 0, 6, 0, 6, 4],\n",
       "          [5, 9, 5, 2, 0, 6],\n",
       "          [9, 2, 0, 2, 9, 0]],\n",
       "\n",
       "         [[7, 9, 5, 4, 2, 9],\n",
       "          [9, 3, 7, 4, 3, 4],\n",
       "          [4, 9, 7, 4, 5, 9],\n",
       "          [9, 7, 3, 0, 2, 1],\n",
       "          [4, 4, 3, 9, 3, 5]],\n",
       "\n",
       "         [[6, 8, 9, 2, 8, 3],\n",
       "          [3, 2, 6, 9, 8, 7],\n",
       "          [6, 6, 5, 7, 4, 2],\n",
       "          [4, 4, 9, 1, 1, 8],\n",
       "          [9, 6, 3, 5, 0, 4]]],\n",
       "\n",
       "\n",
       "        [[[7, 9, 4, 5, 2, 1],\n",
       "          [9, 8, 5, 0, 2, 9],\n",
       "          [4, 0, 9, 3, 4, 0],\n",
       "          [2, 4, 1, 6, 0, 8],\n",
       "          [7, 0, 1, 3, 7, 1]],\n",
       "\n",
       "         [[9, 3, 1, 1, 6, 7],\n",
       "          [8, 1, 1, 8, 2, 0],\n",
       "          [2, 2, 8, 6, 7, 1],\n",
       "          [8, 9, 2, 2, 3, 5],\n",
       "          [2, 2, 3, 8, 7, 4]],\n",
       "\n",
       "         [[1, 5, 9, 1, 7, 1],\n",
       "          [9, 9, 0, 6, 7, 0],\n",
       "          [8, 8, 5, 6, 0, 3],\n",
       "          [6, 4, 9, 3, 5, 5],\n",
       "          [4, 2, 7, 1, 8, 5]],\n",
       "\n",
       "         [[5, 7, 8, 8, 7, 3],\n",
       "          [9, 0, 9, 4, 8, 3],\n",
       "          [8, 2, 8, 8, 5, 7],\n",
       "          [1, 2, 6, 8, 4, 0],\n",
       "          [2, 8, 5, 4, 7, 9]]]]], dtype=int32)"
      ]
     },
     "execution_count": 77,
     "metadata": {},
     "output_type": "execute_result"
    }
   ],
   "source": [
    "rand_arr = np.random.randint(10,size=(2,3,4,5,6))\n",
    "rand_arr"
   ]
  },
  {
   "cell_type": "markdown",
   "id": "4d74c7eb",
   "metadata": {},
   "source": [
    "## manipulating and comparing arrays\n"
   ]
  },
  {
   "cell_type": "code",
   "execution_count": 81,
   "id": "4a97244f",
   "metadata": {},
   "outputs": [
    {
     "data": {
      "text/plain": [
       "array([1., 1., 1.])"
      ]
     },
     "execution_count": 81,
     "metadata": {},
     "output_type": "execute_result"
    }
   ],
   "source": [
    "b=[1,2,3]\n",
    "ones = np.ones(3)\n",
    "ones"
   ]
  },
  {
   "cell_type": "code",
   "execution_count": 82,
   "id": "8702946d",
   "metadata": {},
   "outputs": [
    {
     "data": {
      "text/plain": [
       "array([2., 3., 4.])"
      ]
     },
     "execution_count": 82,
     "metadata": {},
     "output_type": "execute_result"
    }
   ],
   "source": [
    "b+ones"
   ]
  },
  {
   "cell_type": "code",
   "execution_count": 83,
   "id": "0c11acd3",
   "metadata": {},
   "outputs": [
    {
     "data": {
      "text/plain": [
       "array([0., 1., 2.])"
      ]
     },
     "execution_count": 83,
     "metadata": {},
     "output_type": "execute_result"
    }
   ],
   "source": [
    "b-ones"
   ]
  },
  {
   "cell_type": "code",
   "execution_count": 90,
   "id": "ab77d302",
   "metadata": {},
   "outputs": [
    {
     "name": "stdout",
     "output_type": "stream",
     "text": [
      "[2. 3. 4.] [0. 1. 2.] [1. 2. 3.] [1. 2. 3.] (array([1., 2., 3.]), array([0., 0., 0.])) [2.71828183 2.71828183 2.71828183]\n"
     ]
    }
   ],
   "source": [
    "add = np.add(b,ones)\n",
    "sub = np.subtract(b,ones)\n",
    "mul = np.multiply(b,ones)\n",
    "div = np.divide(b,ones)\n",
    "divMod = np.divmod(b,ones)\n",
    "exp = np.exp(ones)\n",
    "print(add,sub,mul,div,divMod,exp)"
   ]
  },
  {
   "cell_type": "code",
   "execution_count": 88,
   "id": "a6ce71f1",
   "metadata": {},
   "outputs": [
    {
     "data": {
      "text/plain": [
       "array([0., 0., 0.])"
      ]
     },
     "execution_count": 88,
     "metadata": {},
     "output_type": "execute_result"
    }
   ],
   "source": [
    "mod=b%ones\n",
    "mod"
   ]
  },
  {
   "cell_type": "code",
   "execution_count": 104,
   "id": "751c4369",
   "metadata": {},
   "outputs": [
    {
     "data": {
      "text/plain": [
       "10000"
      ]
     },
     "execution_count": 104,
     "metadata": {},
     "output_type": "execute_result"
    }
   ],
   "source": [
    "massive_Array = np.random.random(10000)\n",
    "massive_Array.size"
   ]
  },
  {
   "cell_type": "code",
   "execution_count": 106,
   "id": "5e433e79",
   "metadata": {},
   "outputs": [
    {
     "name": "stdout",
     "output_type": "stream",
     "text": [
      "658 μs ± 51.9 μs per loop (mean ± std. dev. of 7 runs, 1,000 loops each)\n",
      "10 μs ± 3.45 μs per loop (mean ± std. dev. of 7 runs, 100,000 loops each)\n"
     ]
    }
   ],
   "source": [
    "%timeit sum(massive_Array)\n",
    "%timeit np.sum(massive_Array)"
   ]
  },
  {
   "cell_type": "code",
   "execution_count": 107,
   "id": "341b59f1",
   "metadata": {},
   "outputs": [
    {
     "data": {
      "text/plain": [
       "np.float64(2.0)"
      ]
     },
     "execution_count": 107,
     "metadata": {},
     "output_type": "execute_result"
    }
   ],
   "source": [
    "np.mean(b)"
   ]
  },
  {
   "cell_type": "code",
   "execution_count": 108,
   "id": "ce0d77a4",
   "metadata": {},
   "outputs": [
    {
     "data": {
      "text/plain": [
       "np.float64(0.816496580927726)"
      ]
     },
     "execution_count": 108,
     "metadata": {},
     "output_type": "execute_result"
    }
   ],
   "source": [
    "np.std(b)\n"
   ]
  },
  {
   "cell_type": "code",
   "execution_count": 109,
   "id": "a62d5a87",
   "metadata": {},
   "outputs": [
    {
     "data": {
      "text/plain": [
       "np.int64(3)"
      ]
     },
     "execution_count": 109,
     "metadata": {},
     "output_type": "execute_result"
    }
   ],
   "source": [
    "np.max(b)\n"
   ]
  },
  {
   "cell_type": "code",
   "execution_count": 110,
   "id": "e1a530ff",
   "metadata": {},
   "outputs": [
    {
     "data": {
      "text/plain": [
       "np.float64(0.6666666666666666)"
      ]
     },
     "execution_count": 110,
     "metadata": {},
     "output_type": "execute_result"
    }
   ],
   "source": [
    "np.var(b)\n"
   ]
  },
  {
   "cell_type": "markdown",
   "id": "1a87fc9d",
   "metadata": {},
   "source": [
    "## std and variance"
   ]
  },
  {
   "cell_type": "code",
   "execution_count": 111,
   "id": "14ca03cc",
   "metadata": {},
   "outputs": [
    {
     "data": {
      "text/plain": [
       "(np.float64(4296133.472222221), np.float64(8.0))"
      ]
     },
     "execution_count": 111,
     "metadata": {},
     "output_type": "execute_result"
    }
   ],
   "source": [
    "hig_var_arr = np.array([1,100,200,300,4000,5000])\n",
    "low_var_arr = np.array([2,4,6,8,10])\n",
    "np.var(hig_var_arr), np.var(low_var_arr)\n"
   ]
  },
  {
   "cell_type": "code",
   "execution_count": 113,
   "id": "9c78c95d",
   "metadata": {},
   "outputs": [
    {
     "data": {
      "text/plain": [
       "(np.float64(2072.711623024829), np.float64(2.8284271247461903))"
      ]
     },
     "execution_count": 113,
     "metadata": {},
     "output_type": "execute_result"
    }
   ],
   "source": [
    "np.std(hig_var_arr), np.std(low_var_arr)\n"
   ]
  },
  {
   "cell_type": "code",
   "execution_count": null,
   "id": "6a240c9b",
   "metadata": {},
   "outputs": [
    {
     "data": {
      "text/plain": [
       "(np.float64(1600.1666666666667), np.float64(6.0))"
      ]
     },
     "execution_count": 114,
     "metadata": {},
     "output_type": "execute_result"
    }
   ],
   "source": [
    "np.mean(hig_var_arr), np.mean(low_var_arr)\n"
   ]
  },
  {
   "cell_type": "code",
   "execution_count": null,
   "id": "387d5e75",
   "metadata": {},
   "outputs": [
    {
     "data": {
      "image/png": "[encoded data removed]",
      "text/plain": [
       "<Figure size 640x480 with 1 Axes>"
      ]
     },
     "metadata": {},
     "output_type": "display_data"
    }
   ],
   "source": [
    "%matplotlib inline\n",
    "import matplotlib.pyplot as plt\n",
    "plt.hist(hig_var_arr)\n",
    "plt.show()"
   ]
  },
  {
   "cell_type": "code",
   "execution_count": 116,
   "id": "8b1db8e4",
   "metadata": {},
   "outputs": [
    {
     "data": {
      "image/png": "[encoded data removed]",
      "text/plain": [
       "<Figure size 640x480 with 1 Axes>"
      ]
     },
     "metadata": {},
     "output_type": "display_data"
    }
   ],
   "source": [
    "%matplotlib inline\n",
    "import matplotlib.pyplot as plt\n",
    "plt.hist(low_var_arr)\n",
    "plt.show()"
   ]
  },
  {
   "cell_type": "code",
   "execution_count": 117,
   "id": "61628b00",
   "metadata": {},
   "outputs": [
    {
     "data": {
      "text/plain": [
       "(2, 3)"
      ]
     },
     "execution_count": 117,
     "metadata": {},
     "output_type": "execute_result"
    }
   ],
   "source": [
    "a2.shape"
   ]
  },
  {
   "cell_type": "code",
   "execution_count": 133,
   "id": "60f1be58",
   "metadata": {},
   "outputs": [
    {
     "data": {
      "text/plain": [
       "array([[[5, 0, 3],\n",
       "        [3, 7, 9],\n",
       "        [3, 5, 2]],\n",
       "\n",
       "       [[4, 7, 6],\n",
       "        [8, 8, 1],\n",
       "        [6, 7, 7]]], dtype=int32)"
      ]
     },
     "execution_count": 133,
     "metadata": {},
     "output_type": "execute_result"
    }
   ],
   "source": [
    "np.random.seed(0)\n",
    "a3= np.random.randint(0,10,size=[2,3,3])\n",
    "a3"
   ]
  },
  {
   "cell_type": "code",
   "execution_count": 137,
   "id": "5b5daa9a",
   "metadata": {},
   "outputs": [
    {
     "data": {
      "text/plain": [
       "array([[1, 2, 3],\n",
       "       [4, 5, 6]])"
      ]
     },
     "execution_count": 137,
     "metadata": {},
     "output_type": "execute_result"
    }
   ],
   "source": [
    "a2\n"
   ]
  },
  {
   "cell_type": "code",
   "execution_count": 136,
   "id": "d0476e62",
   "metadata": {},
   "outputs": [
    {
     "data": {
      "text/plain": [
       "array([[[5, 0, 3],\n",
       "        [3, 7, 9],\n",
       "        [3, 5, 2]],\n",
       "\n",
       "       [[4, 7, 6],\n",
       "        [8, 8, 1],\n",
       "        [6, 7, 7]]], dtype=int32)"
      ]
     },
     "execution_count": 136,
     "metadata": {},
     "output_type": "execute_result"
    }
   ],
   "source": [
    "a3"
   ]
  },
  {
   "cell_type": "code",
   "execution_count": 138,
   "id": "8f29a85a",
   "metadata": {},
   "outputs": [
    {
     "ename": "ValueError",
     "evalue": "operands could not be broadcast together with shapes (2,3) (2,3,3) ",
     "output_type": "error",
     "traceback": [
      "\u001b[31m---------------------------------------------------------------------------\u001b[39m",
      "\u001b[31mValueError\u001b[39m                                Traceback (most recent call last)",
      "\u001b[36mCell\u001b[39m\u001b[36m \u001b[39m\u001b[32mIn[138]\u001b[39m\u001b[32m, line 1\u001b[39m\n\u001b[32m----> \u001b[39m\u001b[32m1\u001b[39m a2*a3\n",
      "\u001b[31mValueError\u001b[39m: operands could not be broadcast together with shapes (2,3) (2,3,3) "
     ]
    }
   ],
   "source": [
    "a2*a3"
   ]
  },
  {
   "cell_type": "code",
   "execution_count": 140,
   "id": "91b2a78b",
   "metadata": {},
   "outputs": [
    {
     "data": {
      "text/plain": [
       "array([[[1],\n",
       "        [2],\n",
       "        [3]],\n",
       "\n",
       "       [[4],\n",
       "        [5],\n",
       "        [6]]])"
      ]
     },
     "execution_count": 140,
     "metadata": {},
     "output_type": "execute_result"
    }
   ],
   "source": [
    "a2reshape = a2.reshape(2,3,1)\n",
    "a2reshape"
   ]
  },
  {
   "cell_type": "code",
   "execution_count": 141,
   "id": "91c9ca37",
   "metadata": {},
   "outputs": [
    {
     "data": {
      "text/plain": [
       "array([[[ 5,  0,  3],\n",
       "        [ 6, 14, 18],\n",
       "        [ 9, 15,  6]],\n",
       "\n",
       "       [[16, 28, 24],\n",
       "        [40, 40,  5],\n",
       "        [36, 42, 42]]])"
      ]
     },
     "execution_count": 141,
     "metadata": {},
     "output_type": "execute_result"
    }
   ],
   "source": [
    "a2reshape*a3"
   ]
  },
  {
   "cell_type": "code",
   "execution_count": null,
   "id": "cfaa3506",
   "metadata": {},
   "outputs": [
    {
     "data": {
      "text/plain": [
       "array([[1, 4],\n",
       "       [2, 5],\n",
       "       [3, 6]])"
      ]
     },
     "execution_count": 142,
     "metadata": {},
     "output_type": "execute_result"
    }
   ],
   "source": [
    "a2.transpose()"
   ]
  },
  {
   "cell_type": "code",
   "execution_count": 143,
   "id": "a8ffce5a",
   "metadata": {},
   "outputs": [
    {
     "data": {
      "text/plain": [
       "array([[1, 4],\n",
       "       [2, 5],\n",
       "       [3, 6]])"
      ]
     },
     "execution_count": 143,
     "metadata": {},
     "output_type": "execute_result"
    }
   ],
   "source": [
    "a2.T"
   ]
  },
  {
   "cell_type": "code",
   "execution_count": 2,
   "id": "862abb1e",
   "metadata": {},
   "outputs": [
    {
     "ename": "NameError",
     "evalue": "name 'np' is not defined",
     "output_type": "error",
     "traceback": [
      "\u001b[31m---------------------------------------------------------------------------\u001b[39m",
      "\u001b[31mNameError\u001b[39m                                 Traceback (most recent call last)",
      "\u001b[36mCell\u001b[39m\u001b[36m \u001b[39m\u001b[32mIn[2]\u001b[39m\u001b[32m, line 1\u001b[39m\n\u001b[32m----> \u001b[39m\u001b[32m1\u001b[39m np.random.seed(\u001b[32m0\u001b[39m)\n\u001b[32m      3\u001b[39m r1 = np.random.randint(\u001b[32m0\u001b[39m,\u001b[32m10\u001b[39m,size=(\u001b[32m5\u001b[39m,\u001b[32m3\u001b[39m))\n\u001b[32m      4\u001b[39m r2 = np.random.randint(\u001b[32m0\u001b[39m,\u001b[32m10\u001b[39m,size=(\u001b[32m5\u001b[39m,\u001b[32m3\u001b[39m))\n",
      "\u001b[31mNameError\u001b[39m: name 'np' is not defined"
     ]
    }
   ],
   "source": [
    "np.random.seed(0)\n",
    "\n",
    "r1 = np.random.randint(0,10,size=(5,3))\n",
    "r2 = np.random.randint(0,10,size=(5,3))\n",
    "r3= np.random.randint(0,10,size=(3,5))\n",
    "r1,r2,r3"
   ]
  },
  {
   "cell_type": "code",
   "execution_count": 146,
   "id": "3a0e802a",
   "metadata": {},
   "outputs": [
    {
     "data": {
      "text/plain": [
       "array([[30,  0, 21],\n",
       "       [24,  7, 45],\n",
       "       [27, 40, 18],\n",
       "       [16, 21,  0],\n",
       "       [24, 40,  0]], dtype=int32)"
      ]
     },
     "execution_count": 146,
     "metadata": {},
     "output_type": "execute_result"
    }
   ],
   "source": [
    "#element wise multiplication  (hadamard product)\n",
    "np.multiply(r1,r2)\n"
   ]
  },
  {
   "cell_type": "code",
   "execution_count": 154,
   "id": "86f0a5f9",
   "metadata": {},
   "outputs": [
    {
     "ename": "ValueError",
     "evalue": "shapes (5,3) and (5,3) not aligned: 3 (dim 1) != 5 (dim 0)",
     "output_type": "error",
     "traceback": [
      "\u001b[31m---------------------------------------------------------------------------\u001b[39m",
      "\u001b[31mValueError\u001b[39m                                Traceback (most recent call last)",
      "\u001b[36mCell\u001b[39m\u001b[36m \u001b[39m\u001b[32mIn[154]\u001b[39m\u001b[32m, line 2\u001b[39m\n\u001b[32m      1\u001b[39m \u001b[38;5;66;03m# dot product\u001b[39;00m\n\u001b[32m----> \u001b[39m\u001b[32m2\u001b[39m np.dot(r1,r2)\n",
      "\u001b[31mValueError\u001b[39m: shapes (5,3) and (5,3) not aligned: 3 (dim 1) != 5 (dim 0)"
     ]
    }
   ],
   "source": [
    "# dot product\n",
    "np.dot(r1,r2)"
   ]
  },
  {
   "cell_type": "code",
   "execution_count": 155,
   "id": "d3af7d9c",
   "metadata": {},
   "outputs": [
    {
     "data": {
      "text/plain": [
       "array([[ 51,  55,  72,  20,  15],\n",
       "       [130,  76, 164,  33,  44],\n",
       "       [ 67,  39,  85,  27,  34],\n",
       "       [115,  69, 146,  37,  47],\n",
       "       [111,  77, 145,  56,  64]], dtype=int32)"
      ]
     },
     "execution_count": 155,
     "metadata": {},
     "output_type": "execute_result"
    }
   ],
   "source": [
    "np.dot(r1,r2.T)"
   ]
  },
  {
   "cell_type": "code",
   "execution_count": 5,
   "id": "24f5c2d7",
   "metadata": {},
   "outputs": [
    {
     "data": {
      "text/plain": [
       "array([[11,  0, 15],\n",
       "       [12, 19, 13],\n",
       "       [ 7,  5,  5],\n",
       "       [ 6,  2, 10],\n",
       "       [ 2,  0, 12]], dtype=int32)"
      ]
     },
     "execution_count": 5,
     "metadata": {},
     "output_type": "execute_result"
    }
   ],
   "source": [
    "salesAmount = np.random.randint(0,20,size=(5,3))\n",
    "salesAmount\n"
   ]
  },
  {
   "cell_type": "code",
   "execution_count": 9,
   "id": "6f2a8350",
   "metadata": {},
   "outputs": [
    {
     "data": {
      "text/html": [
       "<div>\n",
       "<style scoped>\n",
       "    .dataframe tbody tr th:only-of-type {\n",
       "        vertical-align: middle;\n",
       "    }\n",
       "\n",
       "    .dataframe tbody tr th {\n",
       "        vertical-align: top;\n",
       "    }\n",
       "\n",
       "    .dataframe thead th {\n",
       "        text-align: right;\n",
       "    }\n",
       "</style>\n",
       "<table border=\"1\" class=\"dataframe\">\n",
       "  <thead>\n",
       "    <tr style=\"text-align: right;\">\n",
       "      <th></th>\n",
       "      <th>almond</th>\n",
       "      <th>peanut</th>\n",
       "      <th>cashew</th>\n",
       "    </tr>\n",
       "  </thead>\n",
       "  <tbody>\n",
       "    <tr>\n",
       "      <th>mon</th>\n",
       "      <td>11</td>\n",
       "      <td>0</td>\n",
       "      <td>15</td>\n",
       "    </tr>\n",
       "    <tr>\n",
       "      <th>tue</th>\n",
       "      <td>12</td>\n",
       "      <td>19</td>\n",
       "      <td>13</td>\n",
       "    </tr>\n",
       "    <tr>\n",
       "      <th>wed</th>\n",
       "      <td>7</td>\n",
       "      <td>5</td>\n",
       "      <td>5</td>\n",
       "    </tr>\n",
       "    <tr>\n",
       "      <th>thur</th>\n",
       "      <td>6</td>\n",
       "      <td>2</td>\n",
       "      <td>10</td>\n",
       "    </tr>\n",
       "    <tr>\n",
       "      <th>fri</th>\n",
       "      <td>2</td>\n",
       "      <td>0</td>\n",
       "      <td>12</td>\n",
       "    </tr>\n",
       "  </tbody>\n",
       "</table>\n",
       "</div>"
      ],
      "text/plain": [
       "      almond  peanut  cashew\n",
       "mon       11       0      15\n",
       "tue       12      19      13\n",
       "wed        7       5       5\n",
       "thur       6       2      10\n",
       "fri        2       0      12"
      ]
     },
     "execution_count": 9,
     "metadata": {},
     "output_type": "execute_result"
    }
   ],
   "source": [
    "#weekly sales\n",
    "weekly_Sales = pd.DataFrame(salesAmount,index=[\"mon\",\"tue\",\"wed\",\"thur\",\"fri\"],columns=[\"almond\",\"peanut\",\"cashew\"])\n",
    "weekly_Sales"
   ]
  },
  {
   "cell_type": "code",
   "execution_count": 11,
   "id": "e28ca788",
   "metadata": {},
   "outputs": [],
   "source": [
    "prices = np.array([10,8,12])"
   ]
  },
  {
   "cell_type": "code",
   "execution_count": 20,
   "id": "fa79f0d2",
   "metadata": {},
   "outputs": [
    {
     "data": {
      "text/html": [
       "<div>\n",
       "<style scoped>\n",
       "    .dataframe tbody tr th:only-of-type {\n",
       "        vertical-align: middle;\n",
       "    }\n",
       "\n",
       "    .dataframe tbody tr th {\n",
       "        vertical-align: top;\n",
       "    }\n",
       "\n",
       "    .dataframe thead th {\n",
       "        text-align: right;\n",
       "    }\n",
       "</style>\n",
       "<table border=\"1\" class=\"dataframe\">\n",
       "  <thead>\n",
       "    <tr style=\"text-align: right;\">\n",
       "      <th></th>\n",
       "      <th>almond</th>\n",
       "      <th>peanut</th>\n",
       "      <th>cashew</th>\n",
       "    </tr>\n",
       "  </thead>\n",
       "  <tbody>\n",
       "    <tr>\n",
       "      <th>Price</th>\n",
       "      <td>10</td>\n",
       "      <td>8</td>\n",
       "      <td>12</td>\n",
       "    </tr>\n",
       "  </tbody>\n",
       "</table>\n",
       "</div>"
      ],
      "text/plain": [
       "       almond  peanut  cashew\n",
       "Price      10       8      12"
      ]
     },
     "execution_count": 20,
     "metadata": {},
     "output_type": "execute_result"
    }
   ],
   "source": [
    "#butter prices\n",
    "butter_prices = pd.DataFrame(prices.reshape(1,3),\n",
    "                             index=[\"Price\"],columns=[\"almond\",\"peanut\",\"cashew\"])\n",
    "butter_prices"
   ]
  },
  {
   "cell_type": "code",
   "execution_count": null,
   "id": "0b6145bb",
   "metadata": {},
   "outputs": [
    {
     "data": {
      "text/plain": [
       "array([290, 428, 170, 196, 164])"
      ]
     },
     "execution_count": 28,
     "metadata": {},
     "output_type": "execute_result"
    }
   ],
   "source": [
    "totalsales = prices.dot(salesAmount.T)\n",
    "totalsales \n",
    "\n",
    "#same\n",
    "# newsales = np.dot(prices,salesAmount.T)\n",
    "# newsales"
   ]
  },
  {
   "cell_type": "code",
   "execution_count": 41,
   "id": "78d3fe60",
   "metadata": {},
   "outputs": [
    {
     "data": {
      "text/plain": [
       "(1, 5)"
      ]
     },
     "execution_count": 41,
     "metadata": {},
     "output_type": "execute_result"
    }
   ],
   "source": [
    "dailySales = butter_prices.dot(weekly_Sales.T)\n",
    "dailySales.shape"
   ]
  },
  {
   "cell_type": "code",
   "execution_count": 42,
   "id": "74f151ae",
   "metadata": {},
   "outputs": [
    {
     "data": {
      "text/html": [
       "<div>\n",
       "<style scoped>\n",
       "    .dataframe tbody tr th:only-of-type {\n",
       "        vertical-align: middle;\n",
       "    }\n",
       "\n",
       "    .dataframe tbody tr th {\n",
       "        vertical-align: top;\n",
       "    }\n",
       "\n",
       "    .dataframe thead th {\n",
       "        text-align: right;\n",
       "    }\n",
       "</style>\n",
       "<table border=\"1\" class=\"dataframe\">\n",
       "  <thead>\n",
       "    <tr style=\"text-align: right;\">\n",
       "      <th></th>\n",
       "      <th>almond</th>\n",
       "      <th>peanut</th>\n",
       "      <th>cashew</th>\n",
       "      <th>total $</th>\n",
       "    </tr>\n",
       "  </thead>\n",
       "  <tbody>\n",
       "    <tr>\n",
       "      <th>mon</th>\n",
       "      <td>11</td>\n",
       "      <td>0</td>\n",
       "      <td>15</td>\n",
       "      <td>290</td>\n",
       "    </tr>\n",
       "    <tr>\n",
       "      <th>tue</th>\n",
       "      <td>12</td>\n",
       "      <td>19</td>\n",
       "      <td>13</td>\n",
       "      <td>428</td>\n",
       "    </tr>\n",
       "    <tr>\n",
       "      <th>wed</th>\n",
       "      <td>7</td>\n",
       "      <td>5</td>\n",
       "      <td>5</td>\n",
       "      <td>170</td>\n",
       "    </tr>\n",
       "    <tr>\n",
       "      <th>thur</th>\n",
       "      <td>6</td>\n",
       "      <td>2</td>\n",
       "      <td>10</td>\n",
       "      <td>196</td>\n",
       "    </tr>\n",
       "    <tr>\n",
       "      <th>fri</th>\n",
       "      <td>2</td>\n",
       "      <td>0</td>\n",
       "      <td>12</td>\n",
       "      <td>164</td>\n",
       "    </tr>\n",
       "  </tbody>\n",
       "</table>\n",
       "</div>"
      ],
      "text/plain": [
       "      almond  peanut  cashew  total $\n",
       "mon       11       0      15      290\n",
       "tue       12      19      13      428\n",
       "wed        7       5       5      170\n",
       "thur       6       2      10      196\n",
       "fri        2       0      12      164"
      ]
     },
     "execution_count": 42,
     "metadata": {},
     "output_type": "execute_result"
    }
   ],
   "source": [
    "weekly_Sales[\"total $\"]= dailySales.T\n",
    "weekly_Sales"
   ]
  }
 ],
 "metadata": {
  "kernelspec": {
   "display_name": "base",
   "language": "python",
   "name": "python3"
  },
  "language_info": {
   "codemirror_mode": {
    "name": "ipython",
    "version": 3
   },
   "file_extension": ".py",
   "mimetype": "text/x-python",
   "name": "python",
   "nbconvert_exporter": "python",
   "pygments_lexer": "ipython3",
   "version": "3.12.7"
  }
 },
 "nbformat": 4,
 "nbformat_minor": 5
}
